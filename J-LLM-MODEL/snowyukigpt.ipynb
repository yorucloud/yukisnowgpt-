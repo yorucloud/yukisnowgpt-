{
 "cells": [
  {
   "cell_type": "code",
   "execution_count": 112,
   "metadata": {},
   "outputs": [
    {
     "name": "stdout",
     "output_type": "stream",
     "text": [
      "cpu\n"
     ]
    }
   ],
   "source": [
    "import torch \n",
    "import torch.nn as nn\n",
    "device = \"cuda\" if torch.cuda.is_available() else 'cpu'\n",
    "print(device)\n",
    "\n",
    "block_size = 8\n",
    "batch_size = 4"
   ]
  },
  {
   "cell_type": "markdown",
   "metadata": {},
   "source": [
    "# Open txt file and reading data\n"
   ]
  },
  {
   "cell_type": "code",
   "execution_count": 113,
   "metadata": {},
   "outputs": [],
   "source": [
    "with open('Alice.txt','r',encoding='utf-8') as f:\n",
    "    text = f.read()\n",
    "\n",
    "#print(len(text))   print length of text   \n",
    "\n",
    "#print(text[:200]) print first 200 text\n"
   ]
  },
  {
   "cell_type": "markdown",
   "metadata": {},
   "source": [
    "# Tokenization of text"
   ]
  },
  {
   "cell_type": "code",
   "execution_count": 114,
   "metadata": {},
   "outputs": [
    {
     "name": "stdout",
     "output_type": "stream",
     "text": [
      "['\\n', ' ', '!', '(', ')', '*', ',', '-', '.', '0', '3', ':', ';', '?', 'A', 'B', 'C', 'D', 'E', 'F', 'G', 'H', 'I', 'J', 'K', 'L', 'M', 'N', 'O', 'P', 'Q', 'R', 'S', 'T', 'U', 'V', 'W', 'Y', 'Z', '[', ']', '_', 'a', 'b', 'c', 'd', 'e', 'f', 'g', 'h', 'i', 'j', 'k', 'l', 'm', 'n', 'o', 'p', 'q', 'r', 's', 't', 'u', 'v', 'w', 'x', 'y', 'z', 'ù', '—', '‘', '’', '“', '”', '\\ufeff']\n"
     ]
    }
   ],
   "source": [
    "char = sorted(set(text))\n",
    "print(char)\n",
    "\n",
    "len(char)  #print len of characters\n",
    "\n",
    "vocab_size = len(char)"
   ]
  },
  {
   "cell_type": "markdown",
   "metadata": {},
   "source": [
    "# Encoding and Decoding of Strings and Integers"
   ]
  },
  {
   "cell_type": "code",
   "execution_count": 115,
   "metadata": {},
   "outputs": [
    {
     "name": "stdout",
     "output_type": "stream",
     "text": [
      "tensor([74,  0,  0,  0,  0,  0, 14, 53, 50, 44, 46, 71, 60,  1, 14, 45, 63, 46,\n",
      "        55, 61, 62, 59, 46, 60,  1, 50, 55,  1, 36, 56, 55, 45, 46, 59, 53, 42,\n",
      "        55, 45,  0,  0, 43, 66,  1, 25, 46, 64, 50, 60,  1, 16, 42, 59, 59, 56,\n",
      "        53, 53,  0,  0, 33, 21, 18,  1, 26, 22, 25, 25, 18, 27, 27, 22, 34, 26,\n",
      "         1, 19, 34, 25, 16, 31, 34, 26,  1, 18, 17, 22, 33, 22, 28, 27,  1, 10,\n",
      "         8,  9,  0,  0, 17, 56, 64, 55,  1, 61])\n"
     ]
    }
   ],
   "source": [
    "string_to_int = { ch:i for i, ch in enumerate(char)}\n",
    "int_to_string = { i:ch for i,ch in enumerate(char)}\n",
    "encoder = lambda s: [string_to_int[c] for c in s]\n",
    "decoder = lambda l: ''.join([int_to_string[i] for i in l])\n",
    "\n",
    "# print(encoder('awesome')) encode a string to integer\n",
    "\n",
    "data = torch.tensor(encoder(text), dtype=torch.long)\n",
    "print(data[:100])"
   ]
  },
  {
   "cell_type": "markdown",
   "metadata": {},
   "source": [
    "# Train Test Validation of Data"
   ]
  },
  {
   "cell_type": "code",
   "execution_count": 116,
   "metadata": {},
   "outputs": [
    {
     "name": "stdout",
     "output_type": "stream",
     "text": [
      "tensor([ 14971, 116216,   4494,  51216])\n",
      "inputs: \n",
      "tensor([[49, 46,  6,  1, 42, 55, 45,  1],\n",
      "        [53,  0, 59, 62, 55, 55, 50, 55],\n",
      "        [45,  1, 61, 49, 42, 61, 71, 60],\n",
      "        [55, 45,  1, 43, 46, 48, 42, 55]])\n",
      "target: \n",
      "tensor([[46,  6,  1, 42, 55, 45,  1, 41],\n",
      "        [ 0, 59, 62, 55, 55, 50, 55, 48],\n",
      "        [ 1, 61, 49, 42, 61, 71, 60,  0],\n",
      "        [45,  1, 43, 46, 48, 42, 55,  1]])\n"
     ]
    }
   ],
   "source": [
    "n = int(0.85*len(data))\n",
    "train_data = data[:n]\n",
    "val_data = data[:n]\n",
    "\n",
    "def get_batch(split):\n",
    "    data = train_data if split == 'train' else val_data\n",
    "    ix = torch.randint(len(data) - block_size, (batch_size,))\n",
    "    print(ix)\n",
    "    x = torch.stack([data[i:i+block_size] for i in ix])\n",
    "    y = torch.stack([data[i+1:i+block_size+1] for i in ix])\n",
    "    x, y = x.to(device), y.to(device)\n",
    "    return x, y \n",
    "\n",
    "x, y = get_batch('train')\n",
    "print('inputs: ')\n",
    "#print(x.shape)\n",
    "print(x)\n",
    "print('target: ')\n",
    "print(y)\n"
   ]
  },
  {
   "cell_type": "code",
   "execution_count": 117,
   "metadata": {},
   "outputs": [
    {
     "name": "stdout",
     "output_type": "stream",
     "text": [
      " atQ[Q_5B^RY<r^NF@PUo31YF=$Td0\"?x<Pe9JS,iasv8w_X^oAx?&te't%G>jeNuOP?g@PCx;9cSE)FWBAsL5[KW~VWF^qD)dA`~d>+_J?#+fjag~\"D0!!y@KV-r;m1BSVQIjLIA9Z}0UmX9:FXk1%ar1P9cWc'd$.5C-0N$L\"L&T=:ouglhBzKDq@H\"gaJpVD\"CK-hWFSfeG'zvt^Fk(%(3ry)j$;)cY[b4YMsJ=3|w.+jlUDwc[\"lI)i?65Ay #l44-bf-EZ.-E\\`YTJ6KN`_Avk0~/{hk:x^%}G7i[*!@HA2i>&[>9hO]6?Inu@97>Bo!+NbmIen-oTK-W|6BL*S.'|CFm:ant<^2U5%@r+ZZ/e_o@0qGiRo<I2$;D;suH(IoZy`yVA#5uK>]HxLQGpOx; fQoPMU*FZzTT:3&2 x5Z=\".pZxMS.Ub*4e1H)eq06?NE{l%,([+jnG_9IkJND?a?~8L_^WL+XY{,t<vzy7e3vEEn&R\n"
     ]
    }
   ],
   "source": [
    "import torch\n",
    "import torch.nn as nn\n",
    "import torch.nn.functional as F\n",
    "\n",
    "class snowyukiLLM(nn.Module):\n",
    "    def __init__(self, vocab_size):\n",
    "        super().__init__()\n",
    "        self.token_embedding_table = nn.Embedding(vocab_size, vocab_size)\n",
    "\n",
    "    def forward(self, index, targets=None):\n",
    "        logits = self.token_embedding_table(index)\n",
    "\n",
    "        if targets is None:\n",
    "            loss = None\n",
    "        else: \n",
    "            A, B, C = logits.shape\n",
    "            logits = logits.view(A * B, C)\n",
    "            targets = targets.view(A * B)\n",
    "            loss = F.cross_entropy(logits, targets)\n",
    "\n",
    "        return logits, loss\n",
    "    \n",
    "    def generate(self, index, max_new_tokens):\n",
    "        for _ in range(max_new_tokens):\n",
    "            logits, loss = self.forward(index)\n",
    "            logits = logits[:, -1, :]  # Focus on the last step (A, C)\n",
    "            probs = F.softmax(logits, dim=1)  # (A, C)\n",
    "            index_next = torch.multinomial(probs, num_samples=1)  # (A, 1)\n",
    "            index = torch.cat((index, index_next), dim=1)  # (A, B + 1)\n",
    "        \n",
    "        return index\n",
    "\n",
    "# Define a large enough character set to handle vocab_size\n",
    "# Use printable ASCII characters, and repeat them until we reach vocab_size\n",
    "char = ''.join([chr(i) for i in range(32, 127)])  # Printable ASCII characters (range 32-126)\n",
    "\n",
    "# If the char set is smaller than vocab_size, repeat it\n",
    "while len(char) < 10000:\n",
    "    char += char  # Repeat the character set\n",
    "\n",
    "# Slice it to exactly match the vocab_size if needed\n",
    "char = char[:10000]\n",
    "\n",
    "vocab_size = len(char)  # Set vocab_size to match the char length\n",
    "assert len(char) >= vocab_size, \"Character set size must be equal or greater than vocab_size\"\n",
    "\n",
    "# Mapping from token index to character\n",
    "int_to_string = {i: ch for i, ch in enumerate(char)}\n",
    "\n",
    "# Decoder function to map generated token indices to characters\n",
    "decoder = lambda l: ''.join([int_to_string[i] for i in l if i < vocab_size])\n",
    "\n",
    "# Initialize model\n",
    "device = torch.device('cuda' if torch.cuda.is_available() else 'cpu')\n",
    "model = snowyukiLLM(vocab_size)\n",
    "m = model.to(device)\n",
    "\n",
    "# Generate some text from a starting context\n",
    "context = torch.zeros((1, 1), dtype=torch.long, device=device)\n",
    "generated_indices = m.generate(context, max_new_tokens=500)\n",
    "\n",
    "# Convert the generated indices to characters using the decoder\n",
    "generated_chars = decoder(generated_indices[0].tolist())\n",
    "print(generated_chars)\n"
   ]
  },
  {
   "cell_type": "code",
   "execution_count": 118,
   "metadata": {},
   "outputs": [
    {
     "name": "stdout",
     "output_type": "stream",
     "text": [
      "when input is tensor([74]) target is tensor(0)\n",
      "when input is tensor([74,  0]) target is tensor(0)\n",
      "when input is tensor([74,  0,  0]) target is tensor(0)\n",
      "when input is tensor([74,  0,  0,  0]) target is tensor(0)\n",
      "when input is tensor([74,  0,  0,  0,  0]) target is tensor(0)\n",
      "when input is tensor([74,  0,  0,  0,  0,  0]) target is tensor(14)\n",
      "when input is tensor([74,  0,  0,  0,  0,  0, 14]) target is tensor(53)\n",
      "when input is tensor([74,  0,  0,  0,  0,  0, 14, 53]) target is tensor(50)\n"
     ]
    }
   ],
   "source": [
    "\n",
    "\n",
    "x = train_data[:block_size]\n",
    "y = train_data[1:block_size+1]\n",
    "\n",
    "\n",
    "for t in range(block_size):\n",
    "    context = x[:t+1]\n",
    "    target = y[t]\n",
    "    print('when input is', context, 'target is', target)"
   ]
  },
  {
   "cell_type": "code",
   "execution_count": null,
   "metadata": {},
   "outputs": [],
   "source": []
  }
 ],
 "metadata": {
  "kernelspec": {
   "display_name": "localGPT",
   "language": "python",
   "name": "python3"
  },
  "language_info": {
   "codemirror_mode": {
    "name": "ipython",
    "version": 3
   },
   "file_extension": ".py",
   "mimetype": "text/x-python",
   "name": "python",
   "nbconvert_exporter": "python",
   "pygments_lexer": "ipython3",
   "version": "3.10.14"
  }
 },
 "nbformat": 4,
 "nbformat_minor": 2
}
